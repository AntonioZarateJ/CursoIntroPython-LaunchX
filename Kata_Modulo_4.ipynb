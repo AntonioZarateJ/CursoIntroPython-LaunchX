{
 "cells": [
  {
   "cell_type": "markdown",
   "metadata": {},
   "source": [
    "# Ejercicio 1: Transformar cadenas\n",
    "\n"
   ]
  },
  {
   "cell_type": "code",
   "execution_count": 6,
   "metadata": {},
   "outputs": [
    {
     "name": "stdout",
     "output_type": "stream",
     "text": [
      "['Interesting facts about the Moon', \" The Moon is Earth's only satellite\", ' There are several interesting facts about the Moon and how it affects life here on Earth', ' \\nOn average, the Moon moves 4cm away from the Earth every year', ' This yearly drift is not significant enough to cause immediate effects on Earth', ' The highest daylight temperature of the Moon is 127 C', '']\n",
      " \n",
      "On average, the Moon moves 4cm away from the Earth every year\n",
      " The highest daylight temperature of the Moon is 127 C\n",
      "Interesting facts about the Moon\n",
      " The Moon is Earth's only satellite\n",
      " There are several interesting facts about the Moon and how it affects life here on Earth\n",
      " \n",
      "On average, the Moon moves 4cm away from the Earth every year\n",
      " This yearly drift is not significant enough to cause immediate effects on Earth\n",
      " The highest daylight temperature of the Moon is 127 Celsius\n",
      "\n"
     ]
    }
   ],
   "source": [
    "text = \"\"\"Interesting facts about the Moon. The Moon is Earth's only satellite. There are several interesting facts about the Moon and how it affects life here on Earth. \n",
    "On average, the Moon moves 4cm away from the Earth every year. This yearly drift is not significant enough to cause immediate effects on Earth. The highest daylight temperature of the Moon is 127 C.\"\"\"\n",
    "\n",
    "# Añade el código necesario\n",
    "\n",
    "TextoDividido = text.split('.')\n",
    "print(TextoDividido)\n",
    "\n",
    "# Define las palabras pista: average, temperature y distance suenan bien\n",
    "PalabrasClave = [\"average\", \"temperature\", \"distance\"]\n",
    "\n",
    "# Ciclo for para recorrer la cadena\n",
    "for i in TextoDividido:\n",
    "    for j in PalabrasClave:\n",
    "        if j in i:\n",
    "            print(i)\n",
    "            break\n",
    "\n",
    "# Ciclo para cambiar C a Celsius\n",
    "for i in TextoDividido:\n",
    "    print(i.replace('C','Celsius'))"
   ]
  },
  {
   "cell_type": "markdown",
   "metadata": {},
   "source": [
    "# Ejercicio 2: Formateando Cadenas\n"
   ]
  },
  {
   "cell_type": "code",
   "execution_count": 48,
   "metadata": {},
   "outputs": [
    {
     "name": "stdout",
     "output_type": "stream",
     "text": [
      "\n",
      "La Gravedad Que Ejerce La Luna Sobre El Planeta Tierra\n",
      "--------------------------------------------------\n",
      "| Nombre del planeta: Tierra                     |\n",
      "| Gravedad en Luna: 1.6199999999999999 m/s2      |\n",
      "--------------------------------------------------\n",
      "\n",
      "\n",
      "\n",
      "La Gravedad Que Ejerce La Luna Sobre El Planeta Tierra\n",
      "--------------------------------------------------\n",
      "| Nombre del planeta: Tierra                     |\n",
      "| Gravedad en Luna: 1.6199999999999999 m/s2      |\n",
      "--------------------------------------------------\n",
      "\n",
      "\n",
      "\n",
      "La Gravedad Que Ejerce La Ganímedes Sobre El Planeta Marte \n",
      "--------------------------------------------------\n",
      "| Nombre del planeta: Marte                      |\n",
      "| Gravedad en Ganímedes: 0.00143 m/s2            |\n",
      "--------------------------------------------------\n",
      "\n"
     ]
    }
   ],
   "source": [
    "# Datos con los que vas a trabajar\n",
    "name = \"Luna\"\n",
    "gravity = 0.00162 # in kms\n",
    "planet = \"Tierra\"\n",
    "\n",
    "# Creamos el título\n",
    "titulo = f'La gravedad que ejerce la {name} sobre el planeta {planet}'\n",
    "titulo2 = 'La gravedad que ejerce la ' + name + ' sobre la '+ planet\n",
    "\n",
    "# Creamos la plantilla\n",
    "hechos = f\"\"\"{'-'*50}\n",
    "{'|'} Nombre del planeta: {planet} {' '*20}{'|'}\n",
    "{'|'} Gravedad en {name}: {gravity * 1000} m/s2 {' '*5}{'|'}\n",
    "{'-'*50}\n",
    "\"\"\"\n",
    "# Unión de ambas cadenas\n",
    "final = f\"\"\"\n",
    "{titulo.title()}\n",
    "{hechos}\n",
    "\"\"\"\n",
    "print(final)\n",
    "\n",
    "# Comprueba la plantilla\n",
    "# print(nombre_plantilla)\n",
    "\n",
    "planet = 'Marte '\n",
    "gravity  = 0.00143\n",
    "name = 'Ganímedes'\n",
    "\n",
    "print(final)\n",
    "\n",
    "# Nueva plantilla\n",
    "titulo3 = f\"La gravedad que ejerce la {name} sobre el planeta {planet}\".title()\n",
    "NuevaPlantilla = f\"\"\"\n",
    "{titulo3}\n",
    "{'-'*50}\n",
    "{'|'} Nombre del planeta: {planet} {' '*20}{'|'}\n",
    "{'|'} Gravedad en {name}: {gravity} m/s2 {' '*11}{'|'}\n",
    "{'-'*50}\n",
    "\"\"\"\n",
    "#print(NuevaPlantilla.format(name=name, planet=planet, gravity=gravity))\n",
    "\n",
    "# Pista: print(nueva_plantilla.format(variables))\n",
    "print(NuevaPlantilla.format(name=name, planet=planet, gravity=gravity*1000))"
   ]
  }
 ],
 "metadata": {
  "interpreter": {
   "hash": "104ab0b201326c003eb326b253436127765e9423f74595591084a446732f77fa"
  },
  "kernelspec": {
   "display_name": "Python 3.9.9 64-bit",
   "language": "python",
   "name": "python3"
  },
  "language_info": {
   "codemirror_mode": {
    "name": "ipython",
    "version": 3
   },
   "file_extension": ".py",
   "mimetype": "text/x-python",
   "name": "python",
   "nbconvert_exporter": "python",
   "pygments_lexer": "ipython3",
   "version": "3.9.9"
  },
  "orig_nbformat": 4
 },
 "nbformat": 4,
 "nbformat_minor": 2
}
