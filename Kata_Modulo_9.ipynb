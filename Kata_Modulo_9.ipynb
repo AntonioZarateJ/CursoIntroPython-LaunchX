{
 "cells": [
  {
   "cell_type": "markdown",
   "metadata": {},
   "source": [
    "# Ejercicio: Uso de funciones en Python\n"
   ]
  },
  {
   "cell_type": "code",
   "execution_count": 7,
   "metadata": {},
   "outputs": [
    {
     "name": "stdout",
     "output_type": "stream",
     "text": [
      "Reporte:\n",
      "    Total combustible: 235\n",
      "    Capacidad tanque1: 80\n",
      "    Capacidad tanque2: 70\n",
      "    Capacidad tanque3: 85\n",
      "    promedio del Combustible en el cohete: 78.33\n",
      "    \n"
     ]
    }
   ],
   "source": [
    "\n",
    "# Función para leer 3 tanques de combustible y muestre el promedio\n",
    "def reporte(tanque1, tanque2, tanque3):\n",
    "    totalCombustible = (tanque1 + tanque2 + tanque3)\n",
    "    return f\"\"\"Reporte:\n",
    "    Total combustible: {totalCombustible}\n",
    "    Capacidad tanque1: {tanque1}\n",
    "    Capacidad tanque2: {tanque2}\n",
    "    Capacidad tanque3: {tanque3}\n",
    "    promedio del Combustible en el cohete: {round(promedio([tanque1, tanque2, tanque3]),2)}\n",
    "    \"\"\"\n",
    "# Función promedio \n",
    "def promedio(tanques):\n",
    "    total = sum(tanques)\n",
    "    valores = len(tanques)\n",
    "    return total/valores\n",
    "\n",
    "# Llamamos a la función que genera el reporte print(funcion(tanque1, tanque2, tanque3))\n",
    "print(reporte(50, 70, 23))"
   ]
  },
  {
   "cell_type": "markdown",
   "metadata": {},
   "source": [
    "# Ejercicio 2: Trabajo con argumentos de palabra clave"
   ]
  },
  {
   "cell_type": "code",
   "execution_count": 13,
   "metadata": {},
   "outputs": [
    {
     "name": "stdout",
     "output_type": "stream",
     "text": [
      "\n",
      "    Destino: Marte\n",
      "    Tiempo de prelanzamiento: 60 minutos\n",
      "    Tiempo estimado de vuelo: 40 minutos\n",
      "    Tanque principal = 98542, Tanque secundario = 54545\n",
      "    Total Combustible: 153087\n",
      "\n",
      "    \n"
     ]
    }
   ],
   "source": [
    "# Función con un informe preciso de la misión. Considera hora de prelanzamiento, tiempo de vuelo, destino, tanque externo y tanque interno\n",
    "def reporteMision(hora_prelanzamiento, tiempo_Vuelo, destino, tanque_Externo, tanque_Principal):\n",
    "    return f\"\"\"\n",
    "    Destino: {destino}\n",
    "    Tiempo de prelanzamiento: {hora_prelanzamiento} minutos\n",
    "    Tiempo estimado de vuelo: {tiempo_Vuelo} minutos\n",
    "    Tanque principal = {tanque_Principal}, Tanque secundario = {tanque_Externo}\n",
    "    Total Combustible: {tanque_Principal + tanque_Externo}\n",
    "\n",
    "    \"\"\"\n",
    "\n",
    "print(reporteMision(60, 40, \"Marte\", 54545, 98542))"
   ]
  },
  {
   "cell_type": "code",
   "execution_count": 23,
   "metadata": {},
   "outputs": [
    {
     "name": "stdout",
     "output_type": "stream",
     "text": [
      "\n",
      "    Destino: Marte\n",
      "    Tiempo de prelanzamiento: 61 minutos\n",
      "    Tiempo estimado de vuelo: 51 minutos\n",
      "    Tanque principal = 54545, Tanque secundario = 98542\n",
      "    Total Combustible: 153087\n",
      "\n",
      "    \n"
     ]
    }
   ],
   "source": [
    "# Escribe tu nueva función de reporte considerando lo anterior\n",
    "\n",
    "def reporteMision(destino, *minutos, **combustibleT):\n",
    "    return f\"\"\"\n",
    "    Destino: {destino}\n",
    "    Tiempo de prelanzamiento: {sum(minutos)} minutos\n",
    "    Tiempo estimado de vuelo: {minutos[1]} minutos\n",
    "    Tanque principal = {combustibleT['pricipal']}, Tanque secundario = {combustibleT['externo']}\n",
    "    Total Combustible: {sum(combustibleT.values())}\n",
    "\n",
    "    \"\"\"\n",
    "\n",
    "print(reporteMision(\"Marte\", 10, 51, pricipal=54545, externo=98542))"
   ]
  }
 ],
 "metadata": {
  "interpreter": {
   "hash": "104ab0b201326c003eb326b253436127765e9423f74595591084a446732f77fa"
  },
  "kernelspec": {
   "display_name": "Python 3.9.9 64-bit",
   "language": "python",
   "name": "python3"
  },
  "language_info": {
   "codemirror_mode": {
    "name": "ipython",
    "version": 3
   },
   "file_extension": ".py",
   "mimetype": "text/x-python",
   "name": "python",
   "nbconvert_exporter": "python",
   "pygments_lexer": "ipython3",
   "version": "3.9.9"
  },
  "orig_nbformat": 4
 },
 "nbformat": 4,
 "nbformat_minor": 2
}
