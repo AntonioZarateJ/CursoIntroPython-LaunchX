{
 "cells": [
  {
   "cell_type": "markdown",
   "metadata": {},
   "source": [
    "# Ejercicio - Escribir declaraciones if, else, y elif\n"
   ]
  },
  {
   "cell_type": "markdown",
   "metadata": {},
   "source": [
    "# Ejercicio 1\n",
    "Para este ejercicio, escribirás una lógica condicional que imprima una advertencia si un asteroide se acerca a la Tierra demasiado rápido. La velocidad del asteroide varía dependiendo de lo cerca que esté del sol, y cualquier velocidad superior a 25 kilómetros por segundo (km/s) merece una advertencia.\n",
    "\n",
    "Un asteroide se acerca, y viaja a una velocidad de 49 km/s."
   ]
  },
  {
   "cell_type": "code",
   "execution_count": 20,
   "metadata": {},
   "outputs": [
    {
     "name": "stdout",
     "output_type": "stream",
     "text": [
      "Advertencia un asteroide se acerca con gran velocidad ( 49 km/s) a la tierra: \n"
     ]
    }
   ],
   "source": [
    "# Añadir el código necesario para crear una variable que guarde la velocidad del asteroide.\n",
    "# Escribe una expresión de prueba para calcular si necesita una advertencia.\n",
    "# Agregue las instrucciones que se ejecutarán si la expresión de prueba es true o false.\n",
    "\n",
    "def observatorio(Vel_Asteroide):\n",
    "    if Vel_Asteroide >= 25:\n",
    "        print(\"Advertencia un asteroide se acerca con gran velocidad (\",Vel_Asteroide,\"km/s) a la tierra: \")\n",
    "    elif Vel_Asteroide >= 1:\n",
    "        print(\"Avistamiento de una asteroide con una velocidad de\",Vel_Asteroide,\"km/s\")\n",
    "    else:\n",
    "        print(\"No se hay indicios de un posible asteroide\")\n",
    "\n",
    "observatorio(49)"
   ]
  },
  {
   "cell_type": "markdown",
   "metadata": {},
   "source": [
    "# Ejercicio 2\n",
    "\n",
    "Si un asteroide entra en la atmósfera de la Tierra a una velocidad mayor o igual a 20 km/s, a veces produce un rayo de luz que se puede ver desde la Tierra. Escribe la lógica condicional que usa declaraciones if, else, y elif para alertar a las personas de todo el mundo que deben buscar un asteroide en el cielo. ¡Hay uno que se dirige a la tierra ahora a una velocidad de 19 km/s!"
   ]
  },
  {
   "cell_type": "code",
   "execution_count": 19,
   "metadata": {},
   "outputs": [
    {
     "name": "stdout",
     "output_type": "stream",
     "text": [
      "Advertencia un asteroide se acerca a la tierra que no se podra observar en el cielo ya que tiene una velocidad de 19 km/s\n"
     ]
    }
   ],
   "source": [
    "# Agrega el código para crear una variable para un asteroide que viaja a 19 km/s\n",
    "# Escribe varias expresiones de prueba para determinar si puedes ver el rayo de luz desde la tierra\n",
    "# Agrega las instrucciones que se ejecutarán si las expresiones de prueba son True o False\n",
    "\n",
    "def observatorio(Vel_Asteroide):\n",
    "    if Vel_Asteroide >= 20:\n",
    "        print(\"Advertencia un asteroide se acerca a la tierra deberan observar al cielo si se obseva un rayo de luz ya que tiene una velocidad de\",Vel_Asteroide,\"km/s\")\n",
    "    elif Vel_Asteroide >= 1:\n",
    "        print(\"Advertencia un asteroide se acerca a la tierra que no se podra observar en el cielo ya que tiene una velocidad de\",Vel_Asteroide,\"km/s\")\n",
    "    else:\n",
    "        print(\"No se hay indicios de un posible asteroide\")\n",
    "\n",
    "observatorio(19)"
   ]
  },
  {
   "cell_type": "markdown",
   "metadata": {},
   "source": [
    "# Ejercicio: Uso de operadores and y or\n",
    "\n",
    "En este ejercicio, aprenderás información más matizada sobre cuándo los asteroides representan un peligro para la Tierra, y utilizarás esa información para mejorar nuestro sistema de advertencia. Aquí está la nueva información que necesitas saber:\n",
    "\n",
    "*Los asteroides de menos de 25 metros en su dimensión más grande probablemente se quemarán a medida que entren en la atmósfera de la Tierra.\n",
    "\n",
    "Si una pieza de un asteroide que es más grande que 25 metros pero más pequeña que 1000 metros golpeara la Tierra, causaría mucho daño.\n",
    "También discutimos en el ejercicio anterior que:\n",
    "\n",
    "La velocidad del asteroide varía en función de lo cerca que esté del sol, y cualquier velocidad superior a 25 kilómetros por segundo (km/s) merece una advertencia.\n",
    "Si un asteroide entra en la atmósfera de la Tierra a una velocidad mayor o igual a 20 km/s, a veces produce un rayo de luz que se puede ver desde la Tierra.\n",
    "Usando toda esta información, escribe un programa que emita la advertencia o información correcta a la gente de la Tierra, según la velocidad y el tamaño de un asteroide. Utiliza instrucciones if, else, y elif, así como los operadores and y or."
   ]
  },
  {
   "cell_type": "code",
   "execution_count": 24,
   "metadata": {},
   "outputs": [
    {
     "name": "stdout",
     "output_type": "stream",
     "text": [
      "Advertencia un asteroide muy peligoros se acerca a la tierra con una dimension de 25 (m) y una velocidad de 40 (km/s)\n"
     ]
    }
   ],
   "source": [
    "# Agrega el código para crear nuevas variables para la velocidad y el tamaño del asteroide\n",
    "# Para probar el código, prueba con varias velocidades y tamaños\n",
    "# Escribe varias expresiones de prueba o combinaciones de expresiones de prueba para determinar qué mensaje se debe enviar a Tierra.\n",
    "\n",
    "def observatorio(Vel_Asteroide,Tamano_Asteroide):\n",
    "    if Vel_Asteroide >= 25 and Tamano_Asteroide >= 25:\n",
    "        print(\"Advertencia un asteroide muy peligoros se acerca a la tierra con una dimension de\",Tamano_Asteroide,\"(m) y una velocidad de\",Vel_Asteroide,\"(km/s)\")\n",
    "    elif Vel_Asteroide >= 20:\n",
    "        print(\"Advertencia un asteroide se acerca a la tierra deberan observar al cielo si se obseva un rayo de luz ya que tiene una velocidad de\",Vel_Asteroide,\"km/s\")\n",
    "    elif Vel_Asteroide >= 1:\n",
    "        print(\"Advertencia un asteroide se acerca a la tierra que no se podra observar en el cielo ya que tiene una velocidad de\",Vel_Asteroide,\"km/s\")\n",
    "    else:\n",
    "        print(\"No se hay indicios de un posible asteroide\")\n",
    "\n",
    "observatorio(40,25)"
   ]
  }
 ],
 "metadata": {
  "interpreter": {
   "hash": "104ab0b201326c003eb326b253436127765e9423f74595591084a446732f77fa"
  },
  "kernelspec": {
   "display_name": "Python 3.9.9 64-bit",
   "language": "python",
   "name": "python3"
  },
  "language_info": {
   "codemirror_mode": {
    "name": "ipython",
    "version": 3
   },
   "file_extension": ".py",
   "mimetype": "text/x-python",
   "name": "python",
   "nbconvert_exporter": "python",
   "pygments_lexer": "ipython3",
   "version": "3.9.9"
  },
  "orig_nbformat": 4
 },
 "nbformat": 4,
 "nbformat_minor": 2
}
